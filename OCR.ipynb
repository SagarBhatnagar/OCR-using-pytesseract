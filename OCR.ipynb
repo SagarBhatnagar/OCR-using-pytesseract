{
 "cells": [
  {
   "cell_type": "code",
   "execution_count": 4,
   "metadata": {},
   "outputs": [],
   "source": [
    "# import the necessary packages\n",
    "from PIL import Image\n",
    "import pytesseract\n",
    "import cv2\n",
    "import os\n"
   ]
  },
  {
   "cell_type": "code",
   "execution_count": 2,
   "metadata": {},
   "outputs": [
    {
     "data": {
      "text/plain": [
       "True"
      ]
     },
     "execution_count": 2,
     "metadata": {},
     "output_type": "execute_result"
    }
   ],
   "source": [
    "data_path='./'\n",
    "# construct the argument parse and parse the arguments\n",
    "image = data_path + '0001.jpg'\n",
    "\n",
    "# load the example image and convert it to grayscale\n",
    "image = cv2.imread(image)\n",
    "gray = cv2.cvtColor(image, cv2.COLOR_BGR2GRAY)\n",
    "\n",
    "#threshold\n",
    "gray = cv2.threshold(gray, 0, 255,\n",
    "cv2.THRESH_BINARY | cv2.THRESH_OTSU)[1]\n",
    "img = cv2.resize(image,(128,128))\n",
    "\n",
    "# write the grayscale image to disk as a temporary file so we can\n",
    "# apply OCR to it\n",
    "filename = \"{}.png\".format(os.getpid())\n",
    "cv2.imwrite(filename, gray)"
   ]
  },
  {
   "cell_type": "code",
   "execution_count": 3,
   "metadata": {},
   "outputs": [
    {
     "name": "stdout",
     "output_type": "stream",
     "text": [
      "Anil Elephant\n",
      "Balakrishnan, Anil’s white ritis in his arm. He became\n",
      "elephant, dropped dead in his worried about handling the\n",
      "shackles at 5 o'clock this animal which has been in\n",
      ", ing in his shed at East restricted captivity since it\n",
      "morning In-Als shed al Hast eft India last June.\n",
      "ae oy ea lat Before setting out on the\n",
      "€ e-year-old lormer sea voyage from Bombay to\n",
      "working elephant had been Halifax, the elephant and his\n",
      "sick for a week and was keeper walked 110 miles in\n",
      "visited by a veterinarian ve days teveith me hot\n",
      ". ndian countryside benea\n",
      "ant given an jection the blazing equatorial sun.\n",
      ", Sankunni is now free to\n",
      "For the past seven days, return to his family in South\n",
      "Balakrishnan had not eaten, India. Only one other person\n",
      "to the concern of his keeper, at the hardboard factory of\n",
      "Sankunni. Yesterday, he Anil Canada Limited spoke\n",
      "drank a lot of water, but still his Malayalam dialect. He\n",
      "refused to eat spoke hardly any English.\n",
      "Since arriving on July 11,\n",
      "h Accoraing 0 a an repre 1967, the elephant was visited\n",
      "e nad ne al th own 10r regularly by Frederick Cord-\n",
      "nearly three months well, inspector of the Society\n",
      "for the Prevention of Cruelty\n",
      "Both elephant and his to Animals until one month\n",
      "mahout, Sankunni, felt the oO forts were made on sev-\n",
      "Canadian winter excessively eral occasions by the Anil\n",
      "and Sankunni developed arth- firm to have the elephant\n",
      "OO housed in a warmer climate,\n",
      ". in either a zoo, or with a film\n",
      "Youth Dies oun.\n",
      "| Hi a The most recent effort to\n",
      "' i h have Balakrishnan sent home\n",
      "n g Ww y to India were foiled at the last\n",
      ". hour in mid-January, when\n",
      "Accident the captain of the vessel City\n",
      "f Poona, sailing from Saint\n",
      "WOLFVILLE ~— Seaman ° rs t\n",
      "Edward Connors, 17, son of ohn, declined : Tisk an\n",
      "Mr. and Mrs. David Connors, elephant on board in winter\n",
      "Causing wae billad lect nicht Weather.\n"
     ]
    },
    {
     "data": {
      "text/plain": [
       "-1"
      ]
     },
     "execution_count": 3,
     "metadata": {},
     "output_type": "execute_result"
    }
   ],
   "source": [
    "# load the image as a PIL/Pillow image, apply OCR, and then delete\n",
    "# the temporary file\n",
    "text = pytesseract.image_to_string(Image.open(filename),config= \"--psm 6 oem 1\")\n",
    "os.remove(filename)\n",
    "print(text)\n",
    "\n",
    "# show the output images\n",
    "cv2.imshow(\"Image\", image)\n",
    "cv2.imshow(\"Output\", gray)\n",
    "cv2.waitKey(0)"
   ]
  },
  {
   "cell_type": "code",
   "execution_count": null,
   "metadata": {},
   "outputs": [],
   "source": []
  },
  {
   "cell_type": "code",
   "execution_count": null,
   "metadata": {},
   "outputs": [],
   "source": []
  }
 ],
 "metadata": {
  "kernelspec": {
   "display_name": "Python 3",
   "language": "python",
   "name": "python3"
  },
  "language_info": {
   "codemirror_mode": {
    "name": "ipython",
    "version": 3
   },
   "file_extension": ".py",
   "mimetype": "text/x-python",
   "name": "python",
   "nbconvert_exporter": "python",
   "pygments_lexer": "ipython3",
   "version": "3.6.7"
  }
 },
 "nbformat": 4,
 "nbformat_minor": 2
}
